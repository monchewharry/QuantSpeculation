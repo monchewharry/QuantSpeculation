{
 "cells": [
  {
   "cell_type": "code",
   "execution_count": 1,
   "metadata": {
    "collapsed": false
   },
   "outputs": [],
   "source": [
    "class backtest():\n",
    "    def __init__(self,data_out,price):\n",
    "        self.data_out=data_out.dropna().iloc[::-1]#late to the last\n",
    "        self.price=price.head(len(self.data_out)).iloc[::-1]\n",
    "    def backtest(self,trade_size=100,ifshort=True):\n",
    "        prev_x_qty = 0 #amount\n",
    "        position = 0 #-1,0,1\n",
    "        trade_size = trade_size\n",
    "        signal = np.sign(self.data_out.Signal)\n",
    "        self.data_out['buyOrsell']=signal\n",
    "        qty_x = pd.Series(np.zeros(len(signal)),index=self.data_out.index) #money spend\n",
    "        \n",
    "        if ifshort:\n",
    "            for i in range(len(signal)) :\n",
    "              if signal[i] == 1 and position == 0 :\n",
    "                # buy the spread initially\n",
    "                prev_x_qty = trade_size\n",
    "                qty_x[i] = prev_x_qty\n",
    "                position = 1\n",
    "\n",
    "\n",
    "              if signal[i] == -1 and position == 0 :\n",
    "                # sell the spread initially\n",
    "                prev_x_qty =  trade_size\n",
    "                qty_x[i] = -prev_x_qty\n",
    "                position = -1\n",
    "\n",
    "\n",
    "\n",
    "              if signal[i] == 1 and position == -1 :\n",
    "                # we were short the spread and need to buy\n",
    "                qty_x[i] = trade_size + prev_x_qty#新头寸+平旧头寸\n",
    "                prev_x_qty = trade_size\n",
    "                position = 1\n",
    "\n",
    "\n",
    "              if signal[i] == -1 and position == 1 :\n",
    "                # we are long the spread and need to sell\n",
    "                qty_x[i] = -(trade_size + prev_x_qty)\n",
    "                prev_x_qty = trade_size\n",
    "                position = -1\n",
    "                \n",
    "        else:\n",
    "            for i in range(len(signal)) :\n",
    "              if signal[i] == 1 and position == 0 :\n",
    "                # buy the spread initially\n",
    "                qty_x[i] = trade_size\n",
    "                position = 1\n",
    "\n",
    "\n",
    "              if signal[i] == -1 and position == 0 :\n",
    "                # sell the spread initially\n",
    "                qty_x[i] = 0\n",
    "                position = 0\n",
    "\n",
    "              if signal[i] == -1 and position == 1 :\n",
    "                # we are long the spread and need to sell\n",
    "                qty_x[i] = - trade_size \n",
    "                position = 0\n",
    "            \n",
    "        qty_x[len(qty_x)-1] = -sum(qty_x)#zero out\n",
    "        self.data_out[\"qty_x\"] = qty_x#对x交易行为序列\n",
    "        \n",
    "        cash_buy=[(np.sign(q)==1)*q*self.price[i] for i,q in enumerate(self.data_out.qty_x) ]\n",
    "        cash_sell=[-((np.sign(q)==-1)*q*self.price[i]) for i,q in enumerate(self.data_out.qty_x) ]\n",
    "        pos = np.cumsum(self.data_out.qty_x)\n",
    "        cumulative_buy = np.cumsum(cash_buy)#现金支出\n",
    "        cumulative_sell = np.cumsum(cash_sell)#现金收入\n",
    "        equity = (cumulative_sell - cumulative_buy) + pos * self.price#realized P&L+unrealized P&L\n",
    "        self.data_out.equity_curve=equity\n",
    "        \n",
    "    def plot_curve(self):\n",
    "        data = [go.Scatter(\n",
    "                  x=self.data_out.equity_curve.index,\n",
    "                  y=self.data_out.equity_curve.values)]\n",
    "        return py.iplot(data)\n",
    "\n",
    "\n",
    "\n"
   ]
  },
  {
   "cell_type": "code",
   "execution_count": 2,
   "metadata": {
    "collapsed": true
   },
   "outputs": [],
   "source": [
    "%run macd.py"
   ]
  },
  {
   "cell_type": "code",
   "execution_count": 4,
   "metadata": {
    "collapsed": false
   },
   "outputs": [],
   "source": [
    "mb=backtest(a.macd(12,26,9),a.close)"
   ]
  },
  {
   "cell_type": "code",
   "execution_count": 5,
   "metadata": {
    "collapsed": false
   },
   "outputs": [
    {
     "data": {
      "text/html": [
       "<iframe id=\"igraph\" scrolling=\"no\" style=\"border:none;\" seamless=\"seamless\" src=\"https://plot.ly/~monchew/63.embed\" height=\"525px\" width=\"100%\"></iframe>"
      ],
      "text/plain": [
       "<plotly.tools.PlotlyDisplay object>"
      ]
     },
     "execution_count": 5,
     "metadata": {},
     "output_type": "execute_result"
    }
   ],
   "source": [
    "mb.backtest(trade_size=100,ifshort=True)\n",
    "mb.plot_curve()"
   ]
  },
  {
   "cell_type": "code",
   "execution_count": null,
   "metadata": {
    "collapsed": true
   },
   "outputs": [],
   "source": []
  },
  {
   "cell_type": "code",
   "execution_count": null,
   "metadata": {
    "collapsed": true
   },
   "outputs": [],
   "source": []
  },
  {
   "cell_type": "code",
   "execution_count": null,
   "metadata": {
    "collapsed": true
   },
   "outputs": [],
   "source": []
  },
  {
   "cell_type": "code",
   "execution_count": null,
   "metadata": {
    "collapsed": true
   },
   "outputs": [],
   "source": []
  },
  {
   "cell_type": "code",
   "execution_count": null,
   "metadata": {
    "collapsed": true
   },
   "outputs": [],
   "source": []
  }
 ],
 "metadata": {
  "kernelspec": {
   "display_name": "Python 2",
   "language": "python",
   "name": "python2"
  },
  "language_info": {
   "codemirror_mode": {
    "name": "ipython",
    "version": 2
   },
   "file_extension": ".py",
   "mimetype": "text/x-python",
   "name": "python",
   "nbconvert_exporter": "python",
   "pygments_lexer": "ipython2",
   "version": "2.7.13"
  }
 },
 "nbformat": 4,
 "nbformat_minor": 2
}
