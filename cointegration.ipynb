{
 "cells": [
  {
   "cell_type": "markdown",
   "metadata": {},
   "source": [
    "## Cointegration"
   ]
  },
  {
   "cell_type": "code",
   "execution_count": 33,
   "metadata": {
    "collapsed": true
   },
   "outputs": [],
   "source": [
    "%matplotlib inline\n",
    "import numpy as np\n",
    "from scipy import stats\n",
    "import pandas as pd\n",
    "import matplotlib.pyplot as plt\n",
    "\n",
    "import tushare as ts\n",
    "import statsmodels.formula.api as sm\n",
    "import statsmodels.tsa.stattools as smts\n",
    "from statsmodels.graphics.api import qqplot"
   ]
  },
  {
   "cell_type": "code",
   "execution_count": 97,
   "metadata": {
    "collapsed": false
   },
   "outputs": [
    {
     "name": "stdout",
     "output_type": "stream",
     "text": [
      "(469, 14)\n",
      "(490, 13)\n",
      "(469, 3)\n"
     ]
    }
   ],
   "source": [
    "df_ldkg = ts.get_hist_data('600606',start='2014-12-23',end='2016-12-23')\n",
    "print df_ldkg.shape\n",
    "df_sh = ts.get_hist_data('sh',start='2014-12-23',end='2016-12-23')\n",
    "print df_sh.shape\n",
    "df_sh['stamp']= df_sh.index\n",
    "df_ldkg['stamp']= df_ldkg.index\n",
    "df_m=pd.merge(df_sh[['close','stamp']],df_ldkg[['close','stamp']],left_on='stamp',right_on='stamp')# merge\n",
    "print df_m.shape"
   ]
  },
  {
   "cell_type": "code",
   "execution_count": 98,
   "metadata": {
    "collapsed": false
   },
   "outputs": [
    {
     "data": {
      "text/html": [
       "<div>\n",
       "<table border=\"1\" class=\"dataframe\">\n",
       "  <thead>\n",
       "    <tr style=\"text-align: right;\">\n",
       "      <th></th>\n",
       "      <th>close_x</th>\n",
       "      <th>stamp</th>\n",
       "      <th>close_y</th>\n",
       "    </tr>\n",
       "  </thead>\n",
       "  <tbody>\n",
       "    <tr>\n",
       "      <th>0</th>\n",
       "      <td>3110.15</td>\n",
       "      <td>2016-12-23</td>\n",
       "      <td>8.87</td>\n",
       "    </tr>\n",
       "    <tr>\n",
       "      <th>1</th>\n",
       "      <td>3139.56</td>\n",
       "      <td>2016-12-22</td>\n",
       "      <td>9.01</td>\n",
       "    </tr>\n",
       "    <tr>\n",
       "      <th>2</th>\n",
       "      <td>3137.43</td>\n",
       "      <td>2016-12-21</td>\n",
       "      <td>9.06</td>\n",
       "    </tr>\n",
       "    <tr>\n",
       "      <th>3</th>\n",
       "      <td>3102.88</td>\n",
       "      <td>2016-12-20</td>\n",
       "      <td>9.02</td>\n",
       "    </tr>\n",
       "    <tr>\n",
       "      <th>4</th>\n",
       "      <td>3118.08</td>\n",
       "      <td>2016-12-19</td>\n",
       "      <td>9.02</td>\n",
       "    </tr>\n",
       "  </tbody>\n",
       "</table>\n",
       "</div>"
      ],
      "text/plain": [
       "   close_x       stamp  close_y\n",
       "0  3110.15  2016-12-23     8.87\n",
       "1  3139.56  2016-12-22     9.01\n",
       "2  3137.43  2016-12-21     9.06\n",
       "3  3102.88  2016-12-20     9.02\n",
       "4  3118.08  2016-12-19     9.02"
      ]
     },
     "execution_count": 98,
     "metadata": {},
     "output_type": "execute_result"
    }
   ],
   "source": [
    "df_m.iloc[0:5]"
   ]
  },
  {
   "cell_type": "markdown",
   "metadata": {},
   "source": [
    "## integral degree\n",
    "\n",
    "<http://statsmodels.sourceforge.net/0.5.0/generated/statsmodels.tsa.stattools.adfuller.html>"
   ]
  },
  {
   "cell_type": "code",
   "execution_count": 99,
   "metadata": {
    "collapsed": false
   },
   "outputs": [
    {
     "data": {
      "text/plain": [
       "(-1.7743214924586754,\n",
       " 0.39328280293152296,\n",
       " 15,\n",
       " 453,\n",
       " {'1%': -3.4448681948588309,\n",
       "  '10%': -2.5701797149735146,\n",
       "  '5%': -2.867941416548597},\n",
       " 5152.7164386358618)"
      ]
     },
     "execution_count": 99,
     "metadata": {},
     "output_type": "execute_result"
    }
   ],
   "source": [
    "smts.adfuller(df_m['close_x'])"
   ]
  },
  {
   "cell_type": "code",
   "execution_count": 82,
   "metadata": {
    "collapsed": false
   },
   "outputs": [
    {
     "data": {
      "text/plain": [
       "(-2.2840674676753436,\n",
       " 0.17715802862045499,\n",
       " 17,\n",
       " 451,\n",
       " {'1%': -3.444932949082776,\n",
       "  '10%': -2.5701948966327599,\n",
       "  '5%': -2.8679698999537262},\n",
       " 1142.9380210216552)"
      ]
     },
     "execution_count": 82,
     "metadata": {},
     "output_type": "execute_result"
    }
   ],
   "source": [
    "smts.adfuller(df_m['close_y'])"
   ]
  },
  {
   "cell_type": "code",
   "execution_count": 100,
   "metadata": {
    "collapsed": false
   },
   "outputs": [
    {
     "data": {
      "text/plain": [
       "(-5.1219524492479565,\n",
       " 1.2661933836148604e-05,\n",
       " 14,\n",
       " 453,\n",
       " {'1%': -3.4448681948588309,\n",
       "  '10%': -2.5701797149735146,\n",
       "  '5%': -2.867941416548597},\n",
       " 5143.455689145082)"
      ]
     },
     "execution_count": 100,
     "metadata": {},
     "output_type": "execute_result"
    }
   ],
   "source": [
    "diff_sh = df_m['close_x'].values[:-1] - df_m['close_x'].values[1:]\n",
    "smts.adfuller(diff_sh)"
   ]
  },
  {
   "cell_type": "code",
   "execution_count": 101,
   "metadata": {
    "collapsed": false
   },
   "outputs": [
    {
     "data": {
      "text/plain": [
       "(-4.0832213616888478,\n",
       " 0.0010322568520231509,\n",
       " 16,\n",
       " 451,\n",
       " {'1%': -3.444932949082776,\n",
       "  '10%': -2.5701948966327599,\n",
       "  '5%': -2.8679698999537262},\n",
       " 1144.7881122175286)"
      ]
     },
     "execution_count": 101,
     "metadata": {},
     "output_type": "execute_result"
    }
   ],
   "source": [
    "diff_ldkg = df_m['close_y'].values[:-1] - df_m['close_y'].values[1:]\n",
    "smts.adfuller(diff_ldkg)"
   ]
  },
  {
   "cell_type": "markdown",
   "metadata": {},
   "source": [
    ">The first order difference of the two price series are both not unit root."
   ]
  },
  {
   "cell_type": "markdown",
   "metadata": {},
   "source": [
    "## regression => cointegration coef"
   ]
  },
  {
   "cell_type": "code",
   "execution_count": 102,
   "metadata": {
    "collapsed": false
   },
   "outputs": [
    {
     "data": {
      "text/plain": [
       "(468,)"
      ]
     },
     "execution_count": 102,
     "metadata": {},
     "output_type": "execute_result"
    }
   ],
   "source": [
    "dsf=pd.Series(diff_sh,\n",
    "          index = df_m['stamp'][:-1]) \n",
    "dsf.shape"
   ]
  },
  {
   "cell_type": "code",
   "execution_count": 103,
   "metadata": {
    "collapsed": false
   },
   "outputs": [
    {
     "data": {
      "text/plain": [
       "(468,)"
      ]
     },
     "execution_count": 103,
     "metadata": {},
     "output_type": "execute_result"
    }
   ],
   "source": [
    "dldkg=pd.Series(diff_ldkg,\n",
    "          index = df_m['stamp'][:-1]) \n",
    "dldkg.shape"
   ]
  },
  {
   "cell_type": "code",
   "execution_count": 109,
   "metadata": {
    "collapsed": false
   },
   "outputs": [],
   "source": [
    "df_mm = pd.DataFrame({'shDiff':dsf , 'ldkgDiff':dldkg})\n"
   ]
  },
  {
   "cell_type": "code",
   "execution_count": 111,
   "metadata": {
    "collapsed": false
   },
   "outputs": [
    {
     "name": "stdout",
     "output_type": "stream",
     "text": [
      "Intercept     0.490954\n",
      "ldkgDiff     56.172921\n",
      "dtype: float64\n"
     ]
    }
   ],
   "source": [
    "result = sm.ols(formula=\"shDiff ~  ldkgDiff\", data=df_mm).fit()\n",
    "print result.params"
   ]
  },
  {
   "cell_type": "code",
   "execution_count": 112,
   "metadata": {
    "collapsed": false
   },
   "outputs": [
    {
     "name": "stdout",
     "output_type": "stream",
     "text": [
      "                            OLS Regression Results                            \n",
      "==============================================================================\n",
      "Dep. Variable:                 shDiff   R-squared:                       0.418\n",
      "Model:                            OLS   Adj. R-squared:                  0.417\n",
      "Method:                 Least Squares   F-statistic:                     335.2\n",
      "Date:                Sat, 24 Dec 2016   Prob (F-statistic):           8.20e-57\n",
      "Time:                        03:10:57   Log-Likelihood:                -2560.5\n",
      "No. Observations:                 468   AIC:                             5125.\n",
      "Df Residuals:                     466   BIC:                             5133.\n",
      "Df Model:                           1                                         \n",
      "Covariance Type:            nonrobust                                         \n",
      "==============================================================================\n",
      "                 coef    std err          t      P>|t|      [95.0% Conf. Int.]\n",
      "------------------------------------------------------------------------------\n",
      "Intercept      0.4910      2.665      0.184      0.854        -4.746     5.728\n",
      "ldkgDiff      56.1729      3.068     18.309      0.000        50.144    62.202\n",
      "==============================================================================\n",
      "Omnibus:                      108.462   Durbin-Watson:                   1.872\n",
      "Prob(Omnibus):                  0.000   Jarque-Bera (JB):              417.907\n",
      "Skew:                          -0.994   Prob(JB):                     1.79e-91\n",
      "Kurtosis:                       7.181   Cond. No.                         1.15\n",
      "==============================================================================\n",
      "\n",
      "Warnings:\n",
      "[1] Standard Errors assume that the covariance matrix of the errors is correctly specified.\n"
     ]
    }
   ],
   "source": [
    "print result.summary()"
   ]
  },
  {
   "cell_type": "code",
   "execution_count": null,
   "metadata": {
    "collapsed": true
   },
   "outputs": [],
   "source": []
  }
 ],
 "metadata": {
  "kernelspec": {
   "display_name": "Python 2",
   "language": "python",
   "name": "python2"
  },
  "language_info": {
   "codemirror_mode": {
    "name": "ipython",
    "version": 2
   },
   "file_extension": ".py",
   "mimetype": "text/x-python",
   "name": "python",
   "nbconvert_exporter": "python",
   "pygments_lexer": "ipython2",
   "version": "2.7.11"
  }
 },
 "nbformat": 4,
 "nbformat_minor": 0
}
