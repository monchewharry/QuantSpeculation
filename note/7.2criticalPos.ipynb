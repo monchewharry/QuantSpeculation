{
 "cells": [
  {
   "cell_type": "markdown",
   "metadata": {},
   "source": [
    "## critical position"
   ]
  },
  {
   "cell_type": "code",
   "execution_count": 1,
   "metadata": {
    "collapsed": false
   },
   "outputs": [],
   "source": [
    "from peakDetect import peakDetect \n",
    "import numpy as np\n",
    "import pandas as pd\n",
    "%matplotlib inline\n",
    "import matplotlib.pyplot as plt\n",
    "import tushare as tu"
   ]
  },
  {
   "cell_type": "code",
   "execution_count": 4,
   "metadata": {
    "collapsed": false
   },
   "outputs": [
    {
     "name": "stdout",
     "output_type": "stream",
     "text": [
      "Peaks are: [ 16  22  58  75  86 103 110 117 125 135 144 150 157 167 177 188 201 208\n",
      " 215]\n",
      "Peaks are: [  7  13  25  34  49  60  67  74  89  97 107 116 123 129 140 147 155 164\n",
      " 175 182 194 205 213 220]\n"
     ]
    },
    {
     "data": {
      "text/html": [
       "<div>\n",
       "<table border=\"1\" class=\"dataframe\">\n",
       "  <thead>\n",
       "    <tr style=\"text-align: right;\">\n",
       "      <th></th>\n",
       "      <th>close</th>\n",
       "      <th>loc+-</th>\n",
       "    </tr>\n",
       "    <tr>\n",
       "      <th>date</th>\n",
       "      <th></th>\n",
       "      <th></th>\n",
       "    </tr>\n",
       "  </thead>\n",
       "  <tbody>\n",
       "    <tr>\n",
       "      <th>2016-08-16</th>\n",
       "      <td>10.98</td>\n",
       "      <td>86</td>\n",
       "    </tr>\n",
       "    <tr>\n",
       "      <th>2016-12-01</th>\n",
       "      <td>10.06</td>\n",
       "      <td>16</td>\n",
       "    </tr>\n",
       "    <tr>\n",
       "      <th>2016-08-31</th>\n",
       "      <td>10.05</td>\n",
       "      <td>75</td>\n",
       "    </tr>\n",
       "    <tr>\n",
       "      <th>2016-09-27</th>\n",
       "      <td>9.91</td>\n",
       "      <td>58</td>\n",
       "    </tr>\n",
       "    <tr>\n",
       "      <th>2016-11-23</th>\n",
       "      <td>9.81</td>\n",
       "      <td>22</td>\n",
       "    </tr>\n",
       "  </tbody>\n",
       "</table>\n",
       "</div>"
      ],
      "text/plain": [
       "            close  loc+-\n",
       "date                    \n",
       "2016-08-16  10.98     86\n",
       "2016-12-01  10.06     16\n",
       "2016-08-31  10.05     75\n",
       "2016-09-27   9.91     58\n",
       "2016-11-23   9.81     22"
      ]
     },
     "execution_count": 4,
     "metadata": {},
     "output_type": "execute_result"
    }
   ],
   "source": [
    "criticalPosition.criticalPos(vector,nearest=False,period=99,thred=2.0/max(vector),min_dist=5)"
   ]
  },
  {
   "cell_type": "code",
   "execution_count": null,
   "metadata": {
    "collapsed": false
   },
   "outputs": [],
   "source": [
    "loc_m=np.concatenate((loc,loc2))\n",
    "sym_m = ['^'] * len(loc)+ ['s'] * len(loc2)\n",
    "\n",
    "fig, ax = plt.subplots()\n",
    "fig.set_size_inches(12, 10)\n",
    "ax.set_xlim(0,len(vector))\n",
    "ax.plot(vector)\n",
    "for l,s in zip(loc_m,sym_m):\n",
    "    ax.scatter(l,vector.iloc[l],marker=s)\n",
    "#ax.set_xticklabels(vector.index)"
   ]
  },
  {
   "cell_type": "markdown",
   "metadata": {},
   "source": [
    "## nearest peak"
   ]
  },
  {
   "cell_type": "code",
   "execution_count": null,
   "metadata": {
    "collapsed": false
   },
   "outputs": [],
   "source": [
    "period = 99\n",
    "l = [0] * len(vector)\n",
    "for i in loc:\n",
    "    l[i]=i\n",
    "for i in loc2:\n",
    "    l[i]=-i\n",
    "vect=pd.DataFrame({'close':vector,'loc+-':l})"
   ]
  },
  {
   "cell_type": "code",
   "execution_count": null,
   "metadata": {
    "collapsed": false
   },
   "outputs": [],
   "source": [
    "a=vect.iloc[loc[loc<=period]]\n",
    "a[0:1]"
   ]
  },
  {
   "cell_type": "code",
   "execution_count": null,
   "metadata": {
    "collapsed": false
   },
   "outputs": [],
   "source": [
    "a"
   ]
  },
  {
   "cell_type": "markdown",
   "metadata": {},
   "source": [
    "## period maximum peak"
   ]
  },
  {
   "cell_type": "code",
   "execution_count": null,
   "metadata": {
    "collapsed": false
   },
   "outputs": [],
   "source": [
    "a.sort('close',ascending=False)"
   ]
  },
  {
   "cell_type": "code",
   "execution_count": null,
   "metadata": {
    "collapsed": false
   },
   "outputs": [],
   "source": [
    "a.sort('close',ascending=False)[0:1]"
   ]
  },
  {
   "cell_type": "markdown",
   "metadata": {},
   "source": [
    "## module criticalPosition"
   ]
  },
  {
   "cell_type": "code",
   "execution_count": null,
   "metadata": {
    "collapsed": true
   },
   "outputs": [],
   "source": [
    "import criticalPosition"
   ]
  },
  {
   "cell_type": "code",
   "execution_count": 2,
   "metadata": {
    "collapsed": false
   },
   "outputs": [
    {
     "name": "stdout",
     "output_type": "stream",
     "text": [
      "Peaks are: [ 16  22  58  75  86 103 110 117 125 135 144 150 157 167 177 188 201 208\n",
      " 215]\n",
      "Peaks are: [  7  13  25  34  49  60  67  74  89  97 107 116 123 129 140 147 155 164\n",
      " 175 182 194 205 213 220]\n"
     ]
    }
   ],
   "source": [
    "vector = tu.get_hist_data('600606',start='2016-01-23',end='2016-12-25')['close']\n",
    "loc = peakDetect(vector.values, 2.0/max(vector), min_dist=5)#peaks\n",
    "loc2 = peakDetect(-vector.values, 2.0/max(vector), min_dist=5)#bottoms"
   ]
  },
  {
   "cell_type": "code",
   "execution_count": 3,
   "metadata": {
    "collapsed": false
   },
   "outputs": [
    {
     "name": "stdout",
     "output_type": "stream",
     "text": [
      "Peaks are: [ 16  22  58  75  86 103 110 117 125 135 144 150 157 167 177 188 201 208\n",
      " 215]\n",
      "Peaks are: [  7  13  25  34  49  60  67  74  89  97 107 116 123 129 140 147 155 164\n",
      " 175 182 194 205 213 220]\n"
     ]
    },
    {
     "data": {
      "text/html": [
       "<div>\n",
       "<table border=\"1\" class=\"dataframe\">\n",
       "  <thead>\n",
       "    <tr style=\"text-align: right;\">\n",
       "      <th></th>\n",
       "      <th>close</th>\n",
       "      <th>loc+-</th>\n",
       "    </tr>\n",
       "    <tr>\n",
       "      <th>date</th>\n",
       "      <th></th>\n",
       "      <th></th>\n",
       "    </tr>\n",
       "  </thead>\n",
       "  <tbody>\n",
       "    <tr>\n",
       "      <th>2016-12-01</th>\n",
       "      <td>10.06</td>\n",
       "      <td>16</td>\n",
       "    </tr>\n",
       "    <tr>\n",
       "      <th>2016-11-23</th>\n",
       "      <td>9.81</td>\n",
       "      <td>22</td>\n",
       "    </tr>\n",
       "    <tr>\n",
       "      <th>2016-09-27</th>\n",
       "      <td>9.91</td>\n",
       "      <td>58</td>\n",
       "    </tr>\n",
       "    <tr>\n",
       "      <th>2016-08-31</th>\n",
       "      <td>10.05</td>\n",
       "      <td>75</td>\n",
       "    </tr>\n",
       "    <tr>\n",
       "      <th>2016-08-16</th>\n",
       "      <td>10.98</td>\n",
       "      <td>86</td>\n",
       "    </tr>\n",
       "  </tbody>\n",
       "</table>\n",
       "</div>"
      ],
      "text/plain": [
       "            close  loc+-\n",
       "date                    \n",
       "2016-12-01  10.06     16\n",
       "2016-11-23   9.81     22\n",
       "2016-09-27   9.91     58\n",
       "2016-08-31  10.05     75\n",
       "2016-08-16  10.98     86"
      ]
     },
     "execution_count": 3,
     "metadata": {},
     "output_type": "execute_result"
    }
   ],
   "source": [
    "criticalPosition.criticalPos(vector,nearest=True,period=99,thred=2.0/max(vector),min_dist=5)"
   ]
  }
 ],
 "metadata": {
  "kernelspec": {
   "display_name": "Python 2",
   "language": "python",
   "name": "python2"
  },
  "language_info": {
   "codemirror_mode": {
    "name": "ipython",
    "version": 2
   },
   "file_extension": ".py",
   "mimetype": "text/x-python",
   "name": "python",
   "nbconvert_exporter": "python",
   "pygments_lexer": "ipython2",
   "version": "2.7.11"
  }
 },
 "nbformat": 4,
 "nbformat_minor": 0
}
