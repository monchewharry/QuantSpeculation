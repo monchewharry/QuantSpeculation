{
 "cells": [
  {
   "cell_type": "markdown",
   "metadata": {},
   "source": [
    "## price pattern recognization"
   ]
  },
  {
   "cell_type": "code",
   "execution_count": 78,
   "metadata": {
    "collapsed": false
   },
   "outputs": [
    {
     "name": "stdout",
     "output_type": "stream",
     "text": [
      "Populating the interactive namespace from numpy and matplotlib\n"
     ]
    }
   ],
   "source": [
    "import talib\n",
    "import pandas as pd\n",
    "import tushare as tu\n",
    "import matplotlib.pyplot as plt\n",
    "%matplotlib inline\n",
    "%pylab inline\n",
    "pylab.rcParams['figure.figsize'] = (15, 9)   # Change the size of plots\n",
    " \n"
   ]
  },
  {
   "cell_type": "code",
   "execution_count": null,
   "metadata": {
    "collapsed": true
   },
   "outputs": [],
   "source": []
  },
  {
   "cell_type": "code",
   "execution_count": 2,
   "metadata": {
    "collapsed": true
   },
   "outputs": [],
   "source": [
    "df_ldkg = tu.get_hist_data('600606')"
   ]
  },
  {
   "cell_type": "code",
   "execution_count": 75,
   "metadata": {
    "collapsed": false
   },
   "outputs": [
    {
     "data": {
      "text/html": [
       "<div>\n",
       "<table border=\"1\" class=\"dataframe\">\n",
       "  <thead>\n",
       "    <tr style=\"text-align: right;\">\n",
       "      <th></th>\n",
       "      <th>open</th>\n",
       "      <th>high</th>\n",
       "      <th>close</th>\n",
       "      <th>low</th>\n",
       "      <th>volume</th>\n",
       "      <th>price_change</th>\n",
       "      <th>p_change</th>\n",
       "      <th>ma5</th>\n",
       "      <th>ma10</th>\n",
       "      <th>ma20</th>\n",
       "      <th>v_ma5</th>\n",
       "      <th>v_ma10</th>\n",
       "      <th>v_ma20</th>\n",
       "      <th>turnover</th>\n",
       "    </tr>\n",
       "    <tr>\n",
       "      <th>date</th>\n",
       "      <th></th>\n",
       "      <th></th>\n",
       "      <th></th>\n",
       "      <th></th>\n",
       "      <th></th>\n",
       "      <th></th>\n",
       "      <th></th>\n",
       "      <th></th>\n",
       "      <th></th>\n",
       "      <th></th>\n",
       "      <th></th>\n",
       "      <th></th>\n",
       "      <th></th>\n",
       "      <th></th>\n",
       "    </tr>\n",
       "  </thead>\n",
       "  <tbody>\n",
       "    <tr>\n",
       "      <th>2016-12-27</th>\n",
       "      <td>8.72</td>\n",
       "      <td>8.95</td>\n",
       "      <td>8.76</td>\n",
       "      <td>8.69</td>\n",
       "      <td>431607.25</td>\n",
       "      <td>0.01</td>\n",
       "      <td>0.11</td>\n",
       "      <td>8.890</td>\n",
       "      <td>8.958</td>\n",
       "      <td>9.211</td>\n",
       "      <td>443716.32</td>\n",
       "      <td>435737.33</td>\n",
       "      <td>833566.26</td>\n",
       "      <td>1.34</td>\n",
       "    </tr>\n",
       "    <tr>\n",
       "      <th>2016-12-26</th>\n",
       "      <td>8.85</td>\n",
       "      <td>8.85</td>\n",
       "      <td>8.75</td>\n",
       "      <td>8.53</td>\n",
       "      <td>579355.31</td>\n",
       "      <td>-0.12</td>\n",
       "      <td>-1.35</td>\n",
       "      <td>8.942</td>\n",
       "      <td>8.989</td>\n",
       "      <td>9.250</td>\n",
       "      <td>417276.39</td>\n",
       "      <td>448421.16</td>\n",
       "      <td>883816.74</td>\n",
       "      <td>1.80</td>\n",
       "    </tr>\n",
       "    <tr>\n",
       "      <th>2016-12-23</th>\n",
       "      <td>9.01</td>\n",
       "      <td>9.02</td>\n",
       "      <td>8.87</td>\n",
       "      <td>8.83</td>\n",
       "      <td>530662.25</td>\n",
       "      <td>-0.14</td>\n",
       "      <td>-1.55</td>\n",
       "      <td>8.996</td>\n",
       "      <td>9.016</td>\n",
       "      <td>9.300</td>\n",
       "      <td>373586.07</td>\n",
       "      <td>530896.46</td>\n",
       "      <td>938975.96</td>\n",
       "      <td>1.65</td>\n",
       "    </tr>\n",
       "    <tr>\n",
       "      <th>2016-12-22</th>\n",
       "      <td>9.06</td>\n",
       "      <td>9.06</td>\n",
       "      <td>9.01</td>\n",
       "      <td>8.97</td>\n",
       "      <td>322022.34</td>\n",
       "      <td>-0.05</td>\n",
       "      <td>-0.55</td>\n",
       "      <td>9.046</td>\n",
       "      <td>9.068</td>\n",
       "      <td>9.345</td>\n",
       "      <td>372427.84</td>\n",
       "      <td>558378.64</td>\n",
       "      <td>1011930.27</td>\n",
       "      <td>1.00</td>\n",
       "    </tr>\n",
       "    <tr>\n",
       "      <th>2016-12-21</th>\n",
       "      <td>9.03</td>\n",
       "      <td>9.06</td>\n",
       "      <td>9.06</td>\n",
       "      <td>9.01</td>\n",
       "      <td>354934.44</td>\n",
       "      <td>0.04</td>\n",
       "      <td>0.44</td>\n",
       "      <td>9.046</td>\n",
       "      <td>9.102</td>\n",
       "      <td>9.384</td>\n",
       "      <td>392075.03</td>\n",
       "      <td>598808.61</td>\n",
       "      <td>1139418.35</td>\n",
       "      <td>1.10</td>\n",
       "    </tr>\n",
       "  </tbody>\n",
       "</table>\n",
       "</div>"
      ],
      "text/plain": [
       "            open  high  close   low     volume  price_change  p_change    ma5  \\\n",
       "date                                                                            \n",
       "2016-12-27  8.72  8.95   8.76  8.69  431607.25          0.01      0.11  8.890   \n",
       "2016-12-26  8.85  8.85   8.75  8.53  579355.31         -0.12     -1.35  8.942   \n",
       "2016-12-23  9.01  9.02   8.87  8.83  530662.25         -0.14     -1.55  8.996   \n",
       "2016-12-22  9.06  9.06   9.01  8.97  322022.34         -0.05     -0.55  9.046   \n",
       "2016-12-21  9.03  9.06   9.06  9.01  354934.44          0.04      0.44  9.046   \n",
       "\n",
       "             ma10   ma20      v_ma5     v_ma10      v_ma20  turnover  \n",
       "date                                                                  \n",
       "2016-12-27  8.958  9.211  443716.32  435737.33   833566.26      1.34  \n",
       "2016-12-26  8.989  9.250  417276.39  448421.16   883816.74      1.80  \n",
       "2016-12-23  9.016  9.300  373586.07  530896.46   938975.96      1.65  \n",
       "2016-12-22  9.068  9.345  372427.84  558378.64  1011930.27      1.00  \n",
       "2016-12-21  9.102  9.384  392075.03  598808.61  1139418.35      1.10  "
      ]
     },
     "execution_count": 75,
     "metadata": {},
     "output_type": "execute_result"
    }
   ],
   "source": [
    "df_ldkg.head()"
   ]
  },
  {
   "cell_type": "code",
   "execution_count": 40,
   "metadata": {
    "collapsed": false
   },
   "outputs": [],
   "source": [
    "ldkg = df_ldkg[['open','high','close','low']]#input for pattern recognization"
   ]
  },
  {
   "cell_type": "code",
   "execution_count": 18,
   "metadata": {
    "collapsed": false
   },
   "outputs": [
    {
     "name": "stdout",
     "output_type": "stream",
     "text": [
      "['Pattern Recognition', 'Volume Indicators', 'Math Transform', 'Math Operators', 'Cycle Indicators', 'Volatility Indicators', 'Overlap Studies', 'Statistic Functions', 'Momentum Indicators', 'Price Transform']\n"
     ]
    }
   ],
   "source": [
    "print talib.get_function_groups().keys()"
   ]
  },
  {
   "cell_type": "code",
   "execution_count": 65,
   "metadata": {
    "collapsed": true
   },
   "outputs": [],
   "source": [
    "?talib.CDLDOJI"
   ]
  },
  {
   "cell_type": "code",
   "execution_count": 74,
   "metadata": {
    "collapsed": false
   },
   "outputs": [
    {
     "data": {
      "text/plain": [
       "array([  0,   0,   0,   0,   0,   0,   0,   0,   0,   0,   0,   0,   0,\n",
       "         0,   0,   0,   0,   0,   0,   0,   0,   0, 100,   0,   0, 100,\n",
       "       100,   0, 100,   0,   0,   0,   0, 100,   0,   0, 100,   0,   0,\n",
       "         0,   0,   0,   0,   0,   0, 100,   0,   0,   0,   0,   0,   0,\n",
       "         0,   0, 100,   0,   0, 100,   0,   0,   0,   0,   0,   0,   0,\n",
       "         0, 100,   0, 100, 100,   0, 100,   0,   0,   0,   0,   0,   0,\n",
       "         0, 100,   0,   0,   0,   0, 100,   0,   0,   0,   0,   0,   0,\n",
       "         0,   0,   0,   0,   0,   0,   0,   0,   0,   0,   0,   0, 100,\n",
       "         0,   0,   0,   0,   0, 100,   0,   0,   0,   0,   0,   0,   0,\n",
       "       100,   0,   0,   0,   0,   0,   0,   0,   0,   0,   0,   0,   0,\n",
       "       100,   0,   0,   0,   0,   0,   0,   0, 100,   0,   0,   0,   0,\n",
       "         0,   0,   0,   0,   0,   0,   0,   0,   0,   0,   0,   0,   0,\n",
       "         0,   0,   0,   0,   0,   0,   0,   0, 100,   0,   0,   0, 100,\n",
       "         0,   0,   0,   0, 100,   0,   0,   0,   0,   0,   0,   0,   0,\n",
       "         0,   0,   0,   0,   0, 100,   0,   0,   0,   0,   0,   0,   0,\n",
       "       100,   0,   0,   0,   0, 100,   0,   0,   0,   0,   0,   0,   0,\n",
       "         0,   0,   0, 100, 100,   0,   0,   0,   0,   0,   0,   0,   0,\n",
       "         0,   0, 100,   0,   0,   0,   0,   0,   0,   0,   0,   0,   0,\n",
       "         0,   0,   0,   0,   0, 100,   0,   0, 100, 100,   0, 100,   0,\n",
       "         0,   0,   0, 100,   0,   0,   0,   0,   0,   0, 100,   0,   0,\n",
       "         0,   0,   0,   0, 100,   0,   0,   0,   0,   0,   0, 100,   0,\n",
       "         0,   0,   0,   0,   0,   0,   0,   0,   0,   0,   0,   0,   0,\n",
       "         0, 100, 100,   0, 100,   0, 100,   0,   0,   0, 100,   0,   0,\n",
       "         0,   0,   0,   0,   0,   0,   0,   0,   0,   0,   0,   0,   0,\n",
       "       100,   0,   0,   0,   0,   0,   0,   0,   0,   0, 100,   0,   0,\n",
       "       100,   0,   0,   0,   0,   0,   0,   0,   0,   0,   0, 100,   0,\n",
       "       100,   0,   0,   0,   0,   0,   0,   0, 100, 100,   0, 100,   0,\n",
       "         0,   0,   0,   0,   0, 100,   0,   0, 100,   0,   0,   0, 100,\n",
       "       100, 100,   0,   0, 100,   0,   0, 100,   0, 100,   0,   0, 100,\n",
       "         0,   0, 100, 100,   0, 100, 100,   0,   0,   0,   0,   0,   0,\n",
       "         0,   0, 100, 100, 100, 100, 100,   0,   0,   0,   0,   0,   0,\n",
       "         0,   0,   0,   0,   0,   0, 100, 100,   0,   0, 100,   0,   0,\n",
       "         0,   0,   0,   0,   0,   0,   0,   0, 100, 100,   0,   0,   0,\n",
       "         0, 100,   0,   0,   0,   0,   0,   0,   0,   0,   0,   0,   0,\n",
       "         0,   0,   0,   0,   0,   0,   0,   0,   0,   0,   0,   0,   0,\n",
       "       100,   0,   0,   0,   0,   0,   0,   0,   0,   0,   0,   0,   0,\n",
       "         0,   0,   0,   0, 100,   0, 100,   0, 100,   0,   0,   0,   0,\n",
       "         0,   0,   0,   0,   0,   0, 100, 100,   0,   0,   0, 100,   0,\n",
       "         0,   0,   0,   0,   0,   0,   0,   0,   0, 100,   0,   0,   0,\n",
       "         0,   0,   0,   0,   0,   0,   0,   0,   0,   0,   0,   0,   0,\n",
       "         0,   0,   0,   0, 100,   0,   0, 100,   0,   0,   0,   0,   0,\n",
       "         0,   0,   0,   0, 100,   0,   0,   0, 100,   0,   0,   0,   0,\n",
       "         0,   0,   0,   0,   0,   0,   0, 100, 100,   0, 100,   0,   0,\n",
       "         0,   0, 100, 100,   0,   0,   0,   0,   0,   0,   0,   0, 100,\n",
       "         0,   0,   0,   0,   0,   0,   0,   0,   0, 100,   0,   0,   0,\n",
       "         0,   0, 100,   0,   0,   0,   0,   0,   0,   0, 100,   0,   0,\n",
       "         0,   0,   0,   0,   0,   0,   0,   0,   0,   0,   0,   0,   0,\n",
       "         0,   0,   0,   0,   0,   0,   0,   0,   0,   0,   0,   0,   0,\n",
       "         0,   0,   0,   0,   0, 100, 100,   0,   0,   0, 100,   0,   0,\n",
       "         0,   0,   0,   0,   0,   0,   0,   0,   0, 100,   0,   0,   0,\n",
       "         0,   0,   0,   0, 100, 100, 100, 100, 100, 100, 100], dtype=int32)"
      ]
     },
     "execution_count": 74,
     "metadata": {},
     "output_type": "execute_result"
    }
   ],
   "source": [
    "doji=talib.CDLDOJI(ldkg['open'].values,ldkg['high'].values,ldkg['low'].values,ldkg['close'].values)\n",
    "doji"
   ]
  },
  {
   "cell_type": "code",
   "execution_count": 82,
   "metadata": {
    "collapsed": false
   },
   "outputs": [
    {
     "data": {
      "text/plain": [
       "(106, 4)"
      ]
     },
     "execution_count": 82,
     "metadata": {},
     "output_type": "execute_result"
    }
   ],
   "source": [
    "ldkg.iloc[doji>0].shape\n"
   ]
  },
  {
   "cell_type": "code",
   "execution_count": 89,
   "metadata": {
    "collapsed": false
   },
   "outputs": [
    {
     "data": {
      "image/png": "[encoded data removed]",
      "text/plain": [
       "<matplotlib.figure.Figure at 0x106d03550>"
      ]
     },
     "metadata": {},
     "output_type": "display_data"
    }
   ],
   "source": [
    "import pandaStock\n",
    "pandaStock.pandas_candlestick_ohlc(ldkg.iloc[29*13:30*13])"
   ]
  },
  {
   "cell_type": "code",
   "execution_count": null,
   "metadata": {
    "collapsed": true
   },
   "outputs": [],
   "source": []
  },
  {
   "cell_type": "code",
   "execution_count": null,
   "metadata": {
    "collapsed": true
   },
   "outputs": [],
   "source": []
  },
  {
   "cell_type": "code",
   "execution_count": null,
   "metadata": {
    "collapsed": true
   },
   "outputs": [],
   "source": []
  },
  {
   "cell_type": "code",
   "execution_count": null,
   "metadata": {
    "collapsed": true
   },
   "outputs": [],
   "source": []
  },
  {
   "cell_type": "code",
   "execution_count": null,
   "metadata": {
    "collapsed": true
   },
   "outputs": [],
   "source": []
  },
  {
   "cell_type": "code",
   "execution_count": null,
   "metadata": {
    "collapsed": true
   },
   "outputs": [],
   "source": []
  },
  {
   "cell_type": "code",
   "execution_count": null,
   "metadata": {
    "collapsed": true
   },
   "outputs": [],
   "source": []
  },
  {
   "cell_type": "code",
   "execution_count": null,
   "metadata": {
    "collapsed": true
   },
   "outputs": [],
   "source": []
  },
  {
   "cell_type": "code",
   "execution_count": null,
   "metadata": {
    "collapsed": true
   },
   "outputs": [],
   "source": []
  },
  {
   "cell_type": "code",
   "execution_count": null,
   "metadata": {
    "collapsed": true
   },
   "outputs": [],
   "source": []
  },
  {
   "cell_type": "code",
   "execution_count": null,
   "metadata": {
    "collapsed": true
   },
   "outputs": [],
   "source": []
  }
 ],
 "metadata": {
  "kernelspec": {
   "display_name": "Python 2",
   "language": "python",
   "name": "python2"
  },
  "language_info": {
   "codemirror_mode": {
    "name": "ipython",
    "version": 2
   },
   "file_extension": ".py",
   "mimetype": "text/x-python",
   "name": "python",
   "nbconvert_exporter": "python",
   "pygments_lexer": "ipython2",
   "version": "2.7.11"
  }
 },
 "nbformat": 4,
 "nbformat_minor": 0
}
