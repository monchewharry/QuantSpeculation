{
 "cells": [
  {
   "cell_type": "code",
   "execution_count": 1,
   "metadata": {
    "collapsed": true
   },
   "outputs": [],
   "source": [
    "import tushare as ts"
   ]
  },
  {
   "cell_type": "code",
   "execution_count": 2,
   "metadata": {
    "collapsed": false
   },
   "outputs": [],
   "source": [
    "df_sh = ts.get_hist_data('sh',start='2016-12-05',end='2016-12-23')\n",
    "df_ldkg = ts.get_hist_data('600606',start='2016-12-05',end='2016-12-23')"
   ]
  },
  {
   "cell_type": "code",
   "execution_count": 3,
   "metadata": {
    "collapsed": false
   },
   "outputs": [
    {
     "data": {
      "text/plain": [
       "Index([u'open', u'high', u'close', u'low', u'volume', u'price_change',\n",
       "       u'p_change', u'ma5', u'ma10', u'ma20', u'v_ma5', u'v_ma10', u'v_ma20'],\n",
       "      dtype='object')"
      ]
     },
     "execution_count": 3,
     "metadata": {},
     "output_type": "execute_result"
    }
   ],
   "source": [
    "df_sh.columns# column names"
   ]
  },
  {
   "cell_type": "code",
   "execution_count": 4,
   "metadata": {
    "collapsed": false
   },
   "outputs": [
    {
     "name": "stdout",
     "output_type": "stream",
     "text": [
      "<type 'numpy.ndarray'>\n"
     ]
    },
    {
     "data": {
      "text/plain": [
       "array([[    3134.93,     3138.4 ,     3110.15,     3103.75,  1661767.75],\n",
       "       [    3132.16,     3143.17,     3139.56,     3126.89,  1678049.88],\n",
       "       [    3107.24,     3140.25,     3137.43,     3107.24,  1867066.12],\n",
       "       [    3115.9 ,     3117.01,     3102.88,     3084.8 ,  1574267.62],\n",
       "       [    3120.7 ,     3125.28,     3118.08,     3110.08,  1541697.12]])"
      ]
     },
     "execution_count": 4,
     "metadata": {},
     "output_type": "execute_result"
    }
   ],
   "source": [
    "print(type(df_sh.values[0:5,0:5]))\n",
    "df_sh.values[0:5,0:5]"
   ]
  },
  {
   "cell_type": "code",
   "execution_count": 5,
   "metadata": {
    "collapsed": false
   },
   "outputs": [
    {
     "data": {
      "text/plain": [
       "Index([u'2016-12-23', u'2016-12-22', u'2016-12-21', u'2016-12-20',\n",
       "       u'2016-12-19', u'2016-12-16', u'2016-12-15', u'2016-12-14',\n",
       "       u'2016-12-13', u'2016-12-12', u'2016-12-09', u'2016-12-08',\n",
       "       u'2016-12-07', u'2016-12-06', u'2016-12-05'],\n",
       "      dtype='object', name=u'date')"
      ]
     },
     "execution_count": 5,
     "metadata": {},
     "output_type": "execute_result"
    }
   ],
   "source": [
    "df_sh.index# index"
   ]
  },
  {
   "cell_type": "code",
   "execution_count": 6,
   "metadata": {
    "collapsed": false
   },
   "outputs": [
    {
     "data": {
      "text/plain": [
       "date\n",
       "2016-12-23    3110.15\n",
       "2016-12-22    3139.56\n",
       "2016-12-21    3137.43\n",
       "Name: close, dtype: float64"
      ]
     },
     "execution_count": 6,
     "metadata": {},
     "output_type": "execute_result"
    }
   ],
   "source": [
    "df_sh['close'][0:3]"
   ]
  },
  {
   "cell_type": "code",
   "execution_count": 7,
   "metadata": {
    "collapsed": false
   },
   "outputs": [
    {
     "data": {
      "text/plain": [
       "date\n",
       "2016-12-20    3102.88\n",
       "2016-12-19    3118.08\n",
       "2016-12-16    3122.98\n",
       "Name: close, dtype: float64"
      ]
     },
     "execution_count": 7,
     "metadata": {},
     "output_type": "execute_result"
    }
   ],
   "source": [
    "df_sh.loc['2016-12-20':'2016-12-16']['close']"
   ]
  },
  {
   "cell_type": "code",
   "execution_count": 8,
   "metadata": {
    "collapsed": false
   },
   "outputs": [
    {
     "data": {
      "text/plain": [
       "date\n",
       "2016-12-21    3137.43\n",
       "2016-12-20    3102.88\n",
       "2016-12-19    3118.08\n",
       "Name: close, dtype: float64"
      ]
     },
     "execution_count": 8,
     "metadata": {},
     "output_type": "execute_result"
    }
   ],
   "source": [
    "df_sh.iloc[2:5]['close']\n"
   ]
  },
  {
   "cell_type": "code",
   "execution_count": 9,
   "metadata": {
    "collapsed": false
   },
   "outputs": [],
   "source": [
    "import pandas as pd\n",
    "df_2 = pd.DataFrame({'sh_close':df_sh['close'],'ldkg_close':df_ldkg['close']})"
   ]
  },
  {
   "cell_type": "code",
   "execution_count": 10,
   "metadata": {
    "collapsed": false
   },
   "outputs": [
    {
     "data": {
      "text/html": [
       "<div>\n",
       "<table border=\"1\" class=\"dataframe\">\n",
       "  <thead>\n",
       "    <tr style=\"text-align: right;\">\n",
       "      <th></th>\n",
       "      <th>ldkg_close</th>\n",
       "      <th>sh_close</th>\n",
       "    </tr>\n",
       "    <tr>\n",
       "      <th>date</th>\n",
       "      <th></th>\n",
       "      <th></th>\n",
       "    </tr>\n",
       "  </thead>\n",
       "  <tbody>\n",
       "    <tr>\n",
       "      <th>2016-12-23</th>\n",
       "      <td>8.87</td>\n",
       "      <td>3110.15</td>\n",
       "    </tr>\n",
       "    <tr>\n",
       "      <th>2016-12-22</th>\n",
       "      <td>9.01</td>\n",
       "      <td>3139.56</td>\n",
       "    </tr>\n",
       "    <tr>\n",
       "      <th>2016-12-21</th>\n",
       "      <td>9.06</td>\n",
       "      <td>3137.43</td>\n",
       "    </tr>\n",
       "    <tr>\n",
       "      <th>2016-12-20</th>\n",
       "      <td>9.02</td>\n",
       "      <td>3102.88</td>\n",
       "    </tr>\n",
       "    <tr>\n",
       "      <th>2016-12-19</th>\n",
       "      <td>9.02</td>\n",
       "      <td>3118.08</td>\n",
       "    </tr>\n",
       "    <tr>\n",
       "      <th>2016-12-16</th>\n",
       "      <td>9.12</td>\n",
       "      <td>3122.98</td>\n",
       "    </tr>\n",
       "    <tr>\n",
       "      <th>2016-12-15</th>\n",
       "      <td>9.01</td>\n",
       "      <td>3117.68</td>\n",
       "    </tr>\n",
       "    <tr>\n",
       "      <th>2016-12-14</th>\n",
       "      <td>8.96</td>\n",
       "      <td>3140.53</td>\n",
       "    </tr>\n",
       "    <tr>\n",
       "      <th>2016-12-13</th>\n",
       "      <td>9.07</td>\n",
       "      <td>3155.04</td>\n",
       "    </tr>\n",
       "    <tr>\n",
       "      <th>2016-12-12</th>\n",
       "      <td>9.02</td>\n",
       "      <td>3152.97</td>\n",
       "    </tr>\n",
       "    <tr>\n",
       "      <th>2016-12-09</th>\n",
       "      <td>9.39</td>\n",
       "      <td>3232.88</td>\n",
       "    </tr>\n",
       "    <tr>\n",
       "      <th>2016-12-08</th>\n",
       "      <td>9.35</td>\n",
       "      <td>3215.37</td>\n",
       "    </tr>\n",
       "    <tr>\n",
       "      <th>2016-12-07</th>\n",
       "      <td>9.50</td>\n",
       "      <td>3222.24</td>\n",
       "    </tr>\n",
       "    <tr>\n",
       "      <th>2016-12-06</th>\n",
       "      <td>9.45</td>\n",
       "      <td>3199.65</td>\n",
       "    </tr>\n",
       "    <tr>\n",
       "      <th>2016-12-05</th>\n",
       "      <td>9.52</td>\n",
       "      <td>3204.71</td>\n",
       "    </tr>\n",
       "  </tbody>\n",
       "</table>\n",
       "</div>"
      ],
      "text/plain": [
       "            ldkg_close  sh_close\n",
       "date                            \n",
       "2016-12-23        8.87   3110.15\n",
       "2016-12-22        9.01   3139.56\n",
       "2016-12-21        9.06   3137.43\n",
       "2016-12-20        9.02   3102.88\n",
       "2016-12-19        9.02   3118.08\n",
       "2016-12-16        9.12   3122.98\n",
       "2016-12-15        9.01   3117.68\n",
       "2016-12-14        8.96   3140.53\n",
       "2016-12-13        9.07   3155.04\n",
       "2016-12-12        9.02   3152.97\n",
       "2016-12-09        9.39   3232.88\n",
       "2016-12-08        9.35   3215.37\n",
       "2016-12-07        9.50   3222.24\n",
       "2016-12-06        9.45   3199.65\n",
       "2016-12-05        9.52   3204.71"
      ]
     },
     "execution_count": 10,
     "metadata": {},
     "output_type": "execute_result"
    }
   ],
   "source": [
    "df_2"
   ]
  },
  {
   "cell_type": "code",
   "execution_count": 11,
   "metadata": {
    "collapsed": false
   },
   "outputs": [
    {
     "data": {
      "text/html": [
       "<div>\n",
       "<table border=\"1\" class=\"dataframe\">\n",
       "  <thead>\n",
       "    <tr style=\"text-align: right;\">\n",
       "      <th></th>\n",
       "      <th>ldkg_close</th>\n",
       "      <th>sh_close</th>\n",
       "      <th>fraction</th>\n",
       "    </tr>\n",
       "    <tr>\n",
       "      <th>date</th>\n",
       "      <th></th>\n",
       "      <th></th>\n",
       "      <th></th>\n",
       "    </tr>\n",
       "  </thead>\n",
       "  <tbody>\n",
       "    <tr>\n",
       "      <th>2016-12-23</th>\n",
       "      <td>8.87</td>\n",
       "      <td>3110.15</td>\n",
       "      <td>350.636979</td>\n",
       "    </tr>\n",
       "    <tr>\n",
       "      <th>2016-12-22</th>\n",
       "      <td>9.01</td>\n",
       "      <td>3139.56</td>\n",
       "      <td>348.452830</td>\n",
       "    </tr>\n",
       "    <tr>\n",
       "      <th>2016-12-21</th>\n",
       "      <td>9.06</td>\n",
       "      <td>3137.43</td>\n",
       "      <td>346.294702</td>\n",
       "    </tr>\n",
       "    <tr>\n",
       "      <th>2016-12-20</th>\n",
       "      <td>9.02</td>\n",
       "      <td>3102.88</td>\n",
       "      <td>344.000000</td>\n",
       "    </tr>\n",
       "    <tr>\n",
       "      <th>2016-12-19</th>\n",
       "      <td>9.02</td>\n",
       "      <td>3118.08</td>\n",
       "      <td>345.685144</td>\n",
       "    </tr>\n",
       "    <tr>\n",
       "      <th>2016-12-16</th>\n",
       "      <td>9.12</td>\n",
       "      <td>3122.98</td>\n",
       "      <td>342.432018</td>\n",
       "    </tr>\n",
       "    <tr>\n",
       "      <th>2016-12-15</th>\n",
       "      <td>9.01</td>\n",
       "      <td>3117.68</td>\n",
       "      <td>346.024417</td>\n",
       "    </tr>\n",
       "    <tr>\n",
       "      <th>2016-12-14</th>\n",
       "      <td>8.96</td>\n",
       "      <td>3140.53</td>\n",
       "      <td>350.505580</td>\n",
       "    </tr>\n",
       "    <tr>\n",
       "      <th>2016-12-13</th>\n",
       "      <td>9.07</td>\n",
       "      <td>3155.04</td>\n",
       "      <td>347.854465</td>\n",
       "    </tr>\n",
       "    <tr>\n",
       "      <th>2016-12-12</th>\n",
       "      <td>9.02</td>\n",
       "      <td>3152.97</td>\n",
       "      <td>349.553215</td>\n",
       "    </tr>\n",
       "    <tr>\n",
       "      <th>2016-12-09</th>\n",
       "      <td>9.39</td>\n",
       "      <td>3232.88</td>\n",
       "      <td>344.289670</td>\n",
       "    </tr>\n",
       "    <tr>\n",
       "      <th>2016-12-08</th>\n",
       "      <td>9.35</td>\n",
       "      <td>3215.37</td>\n",
       "      <td>343.889840</td>\n",
       "    </tr>\n",
       "    <tr>\n",
       "      <th>2016-12-07</th>\n",
       "      <td>9.50</td>\n",
       "      <td>3222.24</td>\n",
       "      <td>339.183158</td>\n",
       "    </tr>\n",
       "    <tr>\n",
       "      <th>2016-12-06</th>\n",
       "      <td>9.45</td>\n",
       "      <td>3199.65</td>\n",
       "      <td>338.587302</td>\n",
       "    </tr>\n",
       "    <tr>\n",
       "      <th>2016-12-05</th>\n",
       "      <td>9.52</td>\n",
       "      <td>3204.71</td>\n",
       "      <td>336.629202</td>\n",
       "    </tr>\n",
       "  </tbody>\n",
       "</table>\n",
       "</div>"
      ],
      "text/plain": [
       "            ldkg_close  sh_close    fraction\n",
       "date                                        \n",
       "2016-12-23        8.87   3110.15  350.636979\n",
       "2016-12-22        9.01   3139.56  348.452830\n",
       "2016-12-21        9.06   3137.43  346.294702\n",
       "2016-12-20        9.02   3102.88  344.000000\n",
       "2016-12-19        9.02   3118.08  345.685144\n",
       "2016-12-16        9.12   3122.98  342.432018\n",
       "2016-12-15        9.01   3117.68  346.024417\n",
       "2016-12-14        8.96   3140.53  350.505580\n",
       "2016-12-13        9.07   3155.04  347.854465\n",
       "2016-12-12        9.02   3152.97  349.553215\n",
       "2016-12-09        9.39   3232.88  344.289670\n",
       "2016-12-08        9.35   3215.37  343.889840\n",
       "2016-12-07        9.50   3222.24  339.183158\n",
       "2016-12-06        9.45   3199.65  338.587302\n",
       "2016-12-05        9.52   3204.71  336.629202"
      ]
     },
     "execution_count": 11,
     "metadata": {},
     "output_type": "execute_result"
    }
   ],
   "source": [
    "df_2['fraction'] = df_2['sh_close']/ df_2['ldkg_close'] #new column\n",
    "df_2"
   ]
  },
  {
   "cell_type": "code",
   "execution_count": 12,
   "metadata": {
    "collapsed": false
   },
   "outputs": [
    {
     "data": {
      "text/html": [
       "<div>\n",
       "<table border=\"1\" class=\"dataframe\">\n",
       "  <thead>\n",
       "    <tr style=\"text-align: right;\">\n",
       "      <th></th>\n",
       "      <th>close</th>\n",
       "      <th>stamp</th>\n",
       "    </tr>\n",
       "    <tr>\n",
       "      <th>date</th>\n",
       "      <th></th>\n",
       "      <th></th>\n",
       "    </tr>\n",
       "  </thead>\n",
       "  <tbody>\n",
       "    <tr>\n",
       "      <th>2016-12-23</th>\n",
       "      <td>8.87</td>\n",
       "      <td>2016-12-23</td>\n",
       "    </tr>\n",
       "    <tr>\n",
       "      <th>2016-12-22</th>\n",
       "      <td>9.01</td>\n",
       "      <td>2016-12-22</td>\n",
       "    </tr>\n",
       "    <tr>\n",
       "      <th>2016-12-21</th>\n",
       "      <td>9.06</td>\n",
       "      <td>2016-12-21</td>\n",
       "    </tr>\n",
       "    <tr>\n",
       "      <th>2016-12-20</th>\n",
       "      <td>9.02</td>\n",
       "      <td>2016-12-20</td>\n",
       "    </tr>\n",
       "    <tr>\n",
       "      <th>2016-12-19</th>\n",
       "      <td>9.02</td>\n",
       "      <td>2016-12-19</td>\n",
       "    </tr>\n",
       "    <tr>\n",
       "      <th>2016-12-16</th>\n",
       "      <td>9.12</td>\n",
       "      <td>2016-12-16</td>\n",
       "    </tr>\n",
       "    <tr>\n",
       "      <th>2016-12-15</th>\n",
       "      <td>9.01</td>\n",
       "      <td>2016-12-15</td>\n",
       "    </tr>\n",
       "    <tr>\n",
       "      <th>2016-12-14</th>\n",
       "      <td>8.96</td>\n",
       "      <td>2016-12-14</td>\n",
       "    </tr>\n",
       "    <tr>\n",
       "      <th>2016-12-13</th>\n",
       "      <td>9.07</td>\n",
       "      <td>2016-12-13</td>\n",
       "    </tr>\n",
       "    <tr>\n",
       "      <th>2016-12-12</th>\n",
       "      <td>9.02</td>\n",
       "      <td>2016-12-12</td>\n",
       "    </tr>\n",
       "    <tr>\n",
       "      <th>2016-12-09</th>\n",
       "      <td>9.39</td>\n",
       "      <td>2016-12-09</td>\n",
       "    </tr>\n",
       "    <tr>\n",
       "      <th>2016-12-08</th>\n",
       "      <td>9.35</td>\n",
       "      <td>2016-12-08</td>\n",
       "    </tr>\n",
       "    <tr>\n",
       "      <th>2016-12-07</th>\n",
       "      <td>9.50</td>\n",
       "      <td>2016-12-07</td>\n",
       "    </tr>\n",
       "    <tr>\n",
       "      <th>2016-12-06</th>\n",
       "      <td>9.45</td>\n",
       "      <td>2016-12-06</td>\n",
       "    </tr>\n",
       "    <tr>\n",
       "      <th>2016-12-05</th>\n",
       "      <td>9.52</td>\n",
       "      <td>2016-12-05</td>\n",
       "    </tr>\n",
       "  </tbody>\n",
       "</table>\n",
       "</div>"
      ],
      "text/plain": [
       "            close       stamp\n",
       "date                         \n",
       "2016-12-23   8.87  2016-12-23\n",
       "2016-12-22   9.01  2016-12-22\n",
       "2016-12-21   9.06  2016-12-21\n",
       "2016-12-20   9.02  2016-12-20\n",
       "2016-12-19   9.02  2016-12-19\n",
       "2016-12-16   9.12  2016-12-16\n",
       "2016-12-15   9.01  2016-12-15\n",
       "2016-12-14   8.96  2016-12-14\n",
       "2016-12-13   9.07  2016-12-13\n",
       "2016-12-12   9.02  2016-12-12\n",
       "2016-12-09   9.39  2016-12-09\n",
       "2016-12-08   9.35  2016-12-08\n",
       "2016-12-07   9.50  2016-12-07\n",
       "2016-12-06   9.45  2016-12-06\n",
       "2016-12-05   9.52  2016-12-05"
      ]
     },
     "execution_count": 12,
     "metadata": {},
     "output_type": "execute_result"
    }
   ],
   "source": [
    "df_sh['stamp']= df_sh.index\n",
    "df_ldkg['stamp']= df_ldkg.index\n",
    "df_ldkg[['close','stamp']]"
   ]
  },
  {
   "cell_type": "code",
   "execution_count": 14,
   "metadata": {
    "collapsed": false
   },
   "outputs": [],
   "source": [
    "df_m=pd.merge(df_sh[['close','stamp']],df_ldkg[['close','stamp']],left_on='stamp',right_on='stamp')# merge"
   ]
  },
  {
   "cell_type": "code",
   "execution_count": 15,
   "metadata": {
    "collapsed": true
   },
   "outputs": [],
   "source": [
    "del df_m['stamp']"
   ]
  },
  {
   "cell_type": "code",
   "execution_count": 16,
   "metadata": {
    "collapsed": false
   },
   "outputs": [
    {
     "data": {
      "text/html": [
       "<div>\n",
       "<table border=\"1\" class=\"dataframe\">\n",
       "  <thead>\n",
       "    <tr style=\"text-align: right;\">\n",
       "      <th></th>\n",
       "      <th>close_x</th>\n",
       "      <th>close_y</th>\n",
       "    </tr>\n",
       "  </thead>\n",
       "  <tbody>\n",
       "    <tr>\n",
       "      <th>0</th>\n",
       "      <td>3110.15</td>\n",
       "      <td>8.87</td>\n",
       "    </tr>\n",
       "    <tr>\n",
       "      <th>1</th>\n",
       "      <td>3139.56</td>\n",
       "      <td>9.01</td>\n",
       "    </tr>\n",
       "    <tr>\n",
       "      <th>2</th>\n",
       "      <td>3137.43</td>\n",
       "      <td>9.06</td>\n",
       "    </tr>\n",
       "    <tr>\n",
       "      <th>3</th>\n",
       "      <td>3102.88</td>\n",
       "      <td>9.02</td>\n",
       "    </tr>\n",
       "    <tr>\n",
       "      <th>4</th>\n",
       "      <td>3118.08</td>\n",
       "      <td>9.02</td>\n",
       "    </tr>\n",
       "    <tr>\n",
       "      <th>5</th>\n",
       "      <td>3122.98</td>\n",
       "      <td>9.12</td>\n",
       "    </tr>\n",
       "    <tr>\n",
       "      <th>6</th>\n",
       "      <td>3117.68</td>\n",
       "      <td>9.01</td>\n",
       "    </tr>\n",
       "    <tr>\n",
       "      <th>7</th>\n",
       "      <td>3140.53</td>\n",
       "      <td>8.96</td>\n",
       "    </tr>\n",
       "    <tr>\n",
       "      <th>8</th>\n",
       "      <td>3155.04</td>\n",
       "      <td>9.07</td>\n",
       "    </tr>\n",
       "    <tr>\n",
       "      <th>9</th>\n",
       "      <td>3152.97</td>\n",
       "      <td>9.02</td>\n",
       "    </tr>\n",
       "    <tr>\n",
       "      <th>10</th>\n",
       "      <td>3232.88</td>\n",
       "      <td>9.39</td>\n",
       "    </tr>\n",
       "    <tr>\n",
       "      <th>11</th>\n",
       "      <td>3215.37</td>\n",
       "      <td>9.35</td>\n",
       "    </tr>\n",
       "    <tr>\n",
       "      <th>12</th>\n",
       "      <td>3222.24</td>\n",
       "      <td>9.50</td>\n",
       "    </tr>\n",
       "    <tr>\n",
       "      <th>13</th>\n",
       "      <td>3199.65</td>\n",
       "      <td>9.45</td>\n",
       "    </tr>\n",
       "    <tr>\n",
       "      <th>14</th>\n",
       "      <td>3204.71</td>\n",
       "      <td>9.52</td>\n",
       "    </tr>\n",
       "  </tbody>\n",
       "</table>\n",
       "</div>"
      ],
      "text/plain": [
       "    close_x  close_y\n",
       "0   3110.15     8.87\n",
       "1   3139.56     9.01\n",
       "2   3137.43     9.06\n",
       "3   3102.88     9.02\n",
       "4   3118.08     9.02\n",
       "5   3122.98     9.12\n",
       "6   3117.68     9.01\n",
       "7   3140.53     8.96\n",
       "8   3155.04     9.07\n",
       "9   3152.97     9.02\n",
       "10  3232.88     9.39\n",
       "11  3215.37     9.35\n",
       "12  3222.24     9.50\n",
       "13  3199.65     9.45\n",
       "14  3204.71     9.52"
      ]
     },
     "execution_count": 16,
     "metadata": {},
     "output_type": "execute_result"
    }
   ],
   "source": [
    "df_m"
   ]
  },
  {
   "cell_type": "code",
   "execution_count": null,
   "metadata": {
    "collapsed": true
   },
   "outputs": [],
   "source": []
  },
  {
   "cell_type": "code",
   "execution_count": null,
   "metadata": {
    "collapsed": true
   },
   "outputs": [],
   "source": []
  },
  {
   "cell_type": "code",
   "execution_count": null,
   "metadata": {
    "collapsed": true
   },
   "outputs": [],
   "source": []
  },
  {
   "cell_type": "code",
   "execution_count": null,
   "metadata": {
    "collapsed": true
   },
   "outputs": [],
   "source": []
  },
  {
   "cell_type": "code",
   "execution_count": null,
   "metadata": {
    "collapsed": true
   },
   "outputs": [],
   "source": []
  }
 ],
 "metadata": {
  "kernelspec": {
   "display_name": "Python 2",
   "language": "python",
   "name": "python2"
  },
  "language_info": {
   "codemirror_mode": {
    "name": "ipython",
    "version": 2
   },
   "file_extension": ".py",
   "mimetype": "text/x-python",
   "name": "python",
   "nbconvert_exporter": "python",
   "pygments_lexer": "ipython2",
   "version": "2.7.11"
  }
 },
 "nbformat": 4,
 "nbformat_minor": 0
}
