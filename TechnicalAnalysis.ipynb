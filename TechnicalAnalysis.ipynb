{
 "cells": [
  {
   "cell_type": "code",
   "execution_count": 17,
   "metadata": {
    "collapsed": false
   },
   "outputs": [],
   "source": [
    "import numpy as np\n",
    "import pandas as pd\n",
    "import datetime\n",
    "from talib import abstract#support pandas.series\n",
    "import tushare as tu\n",
    "\n",
    "import plotly.plotly as py\n",
    "import cufflinks as cf\n",
    "# Cufflinks binds plotly to pandas dataframes in IPython notebook. Read more\n",
    "import plotly.graph_objs as go\n",
    "from plotly import tools\n",
    "cf.set_config_file(world_readable=True,offline=False)\n",
    "\n",
    "todaydate=datetime.datetime.now()\n",
    "start=todaydate-datetime.timedelta(days=200)\n",
    "stock_name='601668'\n",
    "base_stock = tu.get_hist_data(stock_name,start=start.strftime('%Y-%m-%d'))"
   ]
  },
  {
   "cell_type": "code",
   "execution_count": 66,
   "metadata": {
    "collapsed": false
   },
   "outputs": [],
   "source": [
    "class stockSeries(pd.core.frame.DataFrame):\n",
    "    def sma(self, window):\n",
    "        if len(self) < window:\n",
    "            return None\n",
    "        result=map(lambda x:sum(self['close'].iloc[-x:(-x+window)]) / float(window)\n",
    "                   , [i for i in range(len(self)+1) if i>window])\n",
    "        return pd.Series(result[::-1],index=self.index[:-window])\n",
    "    def ema_genereator(self, window):\n",
    "        c = 2.0 / float(window + 1)\n",
    "        ema_t=sum(self['close'].iloc[-window:]) / float(window)\n",
    "        t=window+1\n",
    "        while True:\n",
    "            yield ema_t\n",
    "            ema_t= c*self['close'].iloc[-t]+(1-c)*ema_t\n",
    "            t=t+1\n",
    "    def ema(self,window):\n",
    "        g=self.ema_genereator(window)\n",
    "        result= [g.next() for i in range(len(self)-window+1)]\n",
    "        return pd.Series(result[::-1],index=self.index[:-window+1])\n",
    "    def macd(self,fasterwindow=12,slowerwindow=26,signalwindow=9):\n",
    "        result= pd.DataFrame({fasterwindow:self.ema(fasterwindow),\n",
    "                              slowerwindow:self.ema(slowerwindow)}).sort_index(axis=0 ,ascending=False)\n",
    "        result['macd']=result[fasterwindow]-result[slowerwindow]\n",
    "        temp=stockSeries({'close':result['macd']})\n",
    "        temp=temp.dropna()\n",
    "        temp=stockSeries({'close':temp['close']})\n",
    "        result[signalwindow]=temp.ema(signalwindow)\n",
    "        \n",
    "        result['Signal'] = result['macd']-result[signalwindow]\n",
    "        return result\n",
    "    def \n",
    "    \n",
    "    def plot_macd(self,fasterwindow=12,slowerwindow=26,signalwindow=9,ohlcinclude=False):\n",
    "        result=self.macd(fasterwindow,slowerwindow,signalwindow)\n",
    "        if ohlcinclude:\n",
    "            fig = tools.make_subplots(rows=2, cols=1,shared_xaxes=True, shared_yaxes=True)\n",
    "            trace1 = go.Candlestick(x=self.index,\n",
    "                                   open=self.open,\n",
    "                                   high=self.high,\n",
    "                                   low=self.low,\n",
    "                                   close=self.close)\n",
    "            trace2= go.Scatter(x=result.index,\n",
    "                              y=result.macd,name='macd')\n",
    "            trace3= go.Scatter(x=result.index,\n",
    "                              y=result[signalwindow],name='9EMA')\n",
    "            trace4=go.Bar(x=result.index,\n",
    "                         y=result.macd-result[signalwindow],name='macd-9ema')\n",
    "            fig.append_trace(trace1, 1, 1)\n",
    "            fig.append_trace(trace2, 2, 1)\n",
    "            fig.append_trace(trace3, 2, 1)\n",
    "            fig.append_trace(trace4, 2, 1)            \n",
    "            fig['layout'].update(height=800, width=1000, title=stock_name)\n",
    "            return py.iplot(fig)\n",
    "        else:\n",
    "            return result[['macd',signalwindow]].iplot(kind='scatter')\n",
    "        \n",
    "        \n",
    "        "
   ]
  },
  {
   "cell_type": "code",
   "execution_count": 68,
   "metadata": {
    "collapsed": false
   },
   "outputs": [
    {
     "name": "stdout",
     "output_type": "stream",
     "text": [
      "This is the format of your plot grid:\n",
      "[ (1,1) x1,y1 ]\n",
      "[ (2,1) x1,y2 ]\n",
      "\n"
     ]
    },
    {
     "data": {
      "text/html": [
       "<iframe id=\"igraph\" scrolling=\"no\" style=\"border:none;\" seamless=\"seamless\" src=\"https://plot.ly/~monchew/55.embed\" height=\"800px\" width=\"1000px\"></iframe>"
      ],
      "text/plain": [
       "<plotly.tools.PlotlyDisplay object>"
      ]
     },
     "execution_count": 68,
     "metadata": {},
     "output_type": "execute_result"
    }
   ],
   "source": [
    "a=stockSeries({'close':base_stock['close'],'open':base_stock['open'],\n",
    "               'high':base_stock['high'],'low':base_stock['low']})\n",
    "a.head()\n",
    "len(a)\n",
    "a.sma(window=5)\n",
    "a.ema(window=26)\n",
    "a.plot_macd(12,26,9,True)"
   ]
  },
  {
   "cell_type": "code",
   "execution_count": null,
   "metadata": {
    "collapsed": true
   },
   "outputs": [],
   "source": []
  }
 ],
 "metadata": {
  "kernelspec": {
   "display_name": "Python 2",
   "language": "python",
   "name": "python2"
  },
  "language_info": {
   "codemirror_mode": {
    "name": "ipython",
    "version": 2
   },
   "file_extension": ".py",
   "mimetype": "text/x-python",
   "name": "python",
   "nbconvert_exporter": "python",
   "pygments_lexer": "ipython2",
   "version": "2.7.13"
  }
 },
 "nbformat": 4,
 "nbformat_minor": 0
}
